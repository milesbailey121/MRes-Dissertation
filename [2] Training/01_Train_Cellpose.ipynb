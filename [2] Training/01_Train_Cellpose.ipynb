{
 "cells": [
  {
   "cell_type": "code",
   "execution_count": null,
   "metadata": {},
   "outputs": [],
   "source": [
    "import numpy as np\n",
    "import cellpose\n",
    "import tifffile\n",
    "import pickle\n",
    "from cellpose import io, models, train"
   ]
  },
  {
   "cell_type": "code",
   "execution_count": null,
   "metadata": {},
   "outputs": [],
   "source": [
    "train_dir = r\"./dir/to/train\"\n",
    "test_dir = r\"./dir/to/test\""
   ]
  },
  {
   "cell_type": "code",
   "execution_count": null,
   "metadata": {},
   "outputs": [],
   "source": [
    "io.logger_setup()\n",
    "\n",
    "output = io.load_train_test_data(train_dir, test_dir,mask_filter=\"_seg\")\n",
    "images, labels, image_names, test_images, test_labels, image_names_test = output\n",
    "\n",
    "with open('file.pkl', 'wb') as file: \n",
    "    # A new file will be created \n",
    "    pickle.dump(output, file) \n"
   ]
  },
  {
   "cell_type": "code",
   "execution_count": null,
   "metadata": {},
   "outputs": [],
   "source": [
    "with open('file.pkl', 'rb') as file: \n",
    "    # Call load method to deserialze \n",
    "    myvar = pickle.load(file) "
   ]
  },
  {
   "cell_type": "code",
   "execution_count": 3,
   "metadata": {},
   "outputs": [],
   "source": [
    "images, labels, image_names, test_images, test_labels, image_names_test = myvar"
   ]
  },
  {
   "cell_type": "code",
   "execution_count": null,
   "metadata": {},
   "outputs": [],
   "source": [
    "io.logger_setup()\n",
    "\n",
    "# e.g. retrain a Cellpose model\n",
    "model = models.CellposeModel(model_type=\"cyto3\",gpu=True)\n",
    "\n",
    "model_path = train.train_seg(model.net, train_data=images, train_labels=labels,\n",
    "                            channels=[2,1], normalize=True,\n",
    "                            test_data=test_images, test_labels=test_labels,\n",
    "                            weight_decay=1e-4, SGD=True, learning_rate=0.1,\n",
    "                            n_epochs=100, model_name=\"my_new_model\")"
   ]
  }
 ],
 "metadata": {
  "kernelspec": {
   "display_name": "cellpose",
   "language": "python",
   "name": "python3"
  },
  "language_info": {
   "codemirror_mode": {
    "name": "ipython",
    "version": 3
   },
   "file_extension": ".py",
   "mimetype": "text/x-python",
   "name": "python",
   "nbconvert_exporter": "python",
   "pygments_lexer": "ipython3",
   "version": "3.8.19"
  }
 },
 "nbformat": 4,
 "nbformat_minor": 2
}
