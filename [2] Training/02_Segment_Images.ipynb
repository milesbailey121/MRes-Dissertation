{
 "cells": [
  {
   "cell_type": "code",
   "execution_count": 1,
   "metadata": {},
   "outputs": [],
   "source": [
    "import numpy as np\n",
    "from cellpose import models, io\n",
    "from cellpose.io import imread\n",
    "import os\n",
    "import tifffile\n",
    "from matplotlib import pyplot as plt"
   ]
  },
  {
   "cell_type": "code",
   "execution_count": null,
   "metadata": {},
   "outputs": [],
   "source": [
    "io.logger_setup()\n",
    "\n",
    "#Depending on \n",
    "# model = models.CellposeModel(pretrained_model=\".\\pretrained-model\",gpu=True)\n",
    "model = models.Cellpose(model_type=\"cyto3\",gpu=True)\n",
    "\n",
    "# list of files\n",
    "root_dir = r\"F:\\Accuracy Scores\\Tumour Images\"\n",
    "\n",
    "channels = [[2,1]]"
   ]
  },
  {
   "cell_type": "code",
   "execution_count": null,
   "metadata": {},
   "outputs": [],
   "source": [
    "# Define channels to run segmentation on(Nuclear and E-cadherin)\n",
    "channels = [[2, 1]]\n",
    "\n",
    "# Create the root output directory if it doesn't exist\n",
    "output_root = r\"./path/to/image\"\n",
    "if not os.path.exists(output_root):\n",
    "    os.makedirs(output_root)\n",
    "\n",
    "# Traverse the directory tree\n",
    "for dirpath, dirnames, filenames in os.walk(root_dir):\n",
    "    for filename in filenames:\n",
    "        if filename.endswith(('.tif', '.tiff')):  # Add other image extensions if necessary\n",
    "            image_path = os.path.join(dirpath, filename)\n",
    "            \n",
    "            # Read the image\n",
    "            image = imread(image_path)\n",
    "            \n",
    "            # Evaluate the model on the image\n",
    "            # masks, flows, styles = model.eval([image], diameter=None, channels=channels)\n",
    "            masks, flows, styles,diams = model.eval([image], diameter=None, channels=channels)\n",
    "            \n",
    "            # Create the corresponding output path\n",
    "            relative_path = os.path.relpath(image_path, root_dir)\n",
    "            output_path = os.path.join(output_root, relative_path)\n",
    "            \n",
    "            # Create necessary directories\n",
    "            output_dir = os.path.dirname(output_path)\n",
    "            if not os.path.exists(output_dir):\n",
    "                os.makedirs(output_dir)\n",
    "            \n",
    "            # Save the mask image\n",
    "            tifffile.imwrite(output_path, masks[0])\n",
    "\n",
    "print(\"Processing and saving completed.\")"
   ]
  }
 ],
 "metadata": {
  "kernelspec": {
   "display_name": "cellpose",
   "language": "python",
   "name": "python3"
  },
  "language_info": {
   "codemirror_mode": {
    "name": "ipython",
    "version": 3
   },
   "file_extension": ".py",
   "mimetype": "text/x-python",
   "name": "python",
   "nbconvert_exporter": "python",
   "pygments_lexer": "ipython3",
   "version": "3.8.19"
  }
 },
 "nbformat": 4,
 "nbformat_minor": 2
}
